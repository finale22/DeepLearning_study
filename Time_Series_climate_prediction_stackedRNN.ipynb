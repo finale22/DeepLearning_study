{
  "nbformat": 4,
  "nbformat_minor": 0,
  "metadata": {
    "colab": {
      "provenance": []
    },
    "kernelspec": {
      "name": "python3",
      "display_name": "Python 3"
    },
    "language_info": {
      "name": "python"
    }
  },
  "cells": [
    {
      "cell_type": "markdown",
      "source": [
        "# 1. 데이터 로드 및 확인"
      ],
      "metadata": {
        "id": "BDEunVPIWINc"
      }
    },
    {
      "cell_type": "code",
      "execution_count": null,
      "metadata": {
        "colab": {
          "base_uri": "https://localhost:8080/"
        },
        "id": "OfmC775VVzuz",
        "outputId": "e921e32e-a0cd-4a7b-8738-836797dce167"
      },
      "outputs": [
        {
          "output_type": "stream",
          "name": "stdout",
          "text": [
            "Mounted at /content/drive/\n"
          ]
        }
      ],
      "source": [
        "from google.colab import drive\n",
        "drive.mount('/content/drive/')\n",
        "path = '/content/drive/MyDrive/DL/개인공부/jena_climate'"
      ]
    },
    {
      "cell_type": "code",
      "source": [
        "import os\n",
        "\n",
        "fname = os.path.join(path, 'jena_climate_2009_2016.csv')\n",
        "f = open(fname)\n",
        "data = f.read()\n",
        "f.close()\n",
        "\n",
        "lines = data.split('\\n')\n",
        "header = lines[0].split(',')\n",
        "lines = lines[1:]\n",
        "\n",
        "print(header)\n",
        "print(len(lines))"
      ],
      "metadata": {
        "colab": {
          "base_uri": "https://localhost:8080/"
        },
        "id": "7RM7Lbn8WGn2",
        "outputId": "f2ede2bb-fa87-42cd-b233-c6b632a5b2c2"
      },
      "execution_count": null,
      "outputs": [
        {
          "output_type": "stream",
          "name": "stdout",
          "text": [
            "['\"Date Time\"', '\"p (mbar)\"', '\"T (degC)\"', '\"Tpot (K)\"', '\"Tdew (degC)\"', '\"rh (%)\"', '\"VPmax (mbar)\"', '\"VPact (mbar)\"', '\"VPdef (mbar)\"', '\"sh (g/kg)\"', '\"H2OC (mmol/mol)\"', '\"rho (g/m**3)\"', '\"wv (m/s)\"', '\"max. wv (m/s)\"', '\"wd (deg)\"']\n",
            "420451\n"
          ]
        }
      ]
    },
    {
      "cell_type": "markdown",
      "source": [
        "- 420,451 x 15 크기의 데이터\n",
        "- 420,451개의 타임스텝\n",
        "- 1개의 날짜 변수(Date Time)와 14개의 날씨 정보 변수"
      ],
      "metadata": {
        "id": "D2YRrAYzXdCG"
      }
    },
    {
      "cell_type": "code",
      "source": [
        "# 데이터 프레임으로 출력하여 확인해보기\n",
        "import pandas as pd\n",
        "\n",
        "df = pd.read_csv(fname)\n",
        "df.head()"
      ],
      "metadata": {
        "colab": {
          "base_uri": "https://localhost:8080/",
          "height": 206
        },
        "id": "FIHIv8xLYQUE",
        "outputId": "f7fcab66-941d-4c92-ecad-8da1dde42cbf"
      },
      "execution_count": null,
      "outputs": [
        {
          "output_type": "execute_result",
          "data": {
            "text/plain": [
              "             Date Time  p (mbar)  T (degC)  Tpot (K)  Tdew (degC)  rh (%)  \\\n",
              "0  01.01.2009 00:10:00    996.52     -8.02    265.40        -8.90    93.3   \n",
              "1  01.01.2009 00:20:00    996.57     -8.41    265.01        -9.28    93.4   \n",
              "2  01.01.2009 00:30:00    996.53     -8.51    264.91        -9.31    93.9   \n",
              "3  01.01.2009 00:40:00    996.51     -8.31    265.12        -9.07    94.2   \n",
              "4  01.01.2009 00:50:00    996.51     -8.27    265.15        -9.04    94.1   \n",
              "\n",
              "   VPmax (mbar)  VPact (mbar)  VPdef (mbar)  sh (g/kg)  H2OC (mmol/mol)  \\\n",
              "0          3.33          3.11          0.22       1.94             3.12   \n",
              "1          3.23          3.02          0.21       1.89             3.03   \n",
              "2          3.21          3.01          0.20       1.88             3.02   \n",
              "3          3.26          3.07          0.19       1.92             3.08   \n",
              "4          3.27          3.08          0.19       1.92             3.09   \n",
              "\n",
              "   rho (g/m**3)  wv (m/s)  max. wv (m/s)  wd (deg)  \n",
              "0       1307.75      1.03           1.75     152.3  \n",
              "1       1309.80      0.72           1.50     136.1  \n",
              "2       1310.24      0.19           0.63     171.6  \n",
              "3       1309.19      0.34           0.50     198.0  \n",
              "4       1309.00      0.32           0.63     214.3  "
            ],
            "text/html": [
              "\n",
              "  <div id=\"df-345fcdbb-78e9-4af3-b4f3-7ae12cc03734\" class=\"colab-df-container\">\n",
              "    <div>\n",
              "<style scoped>\n",
              "    .dataframe tbody tr th:only-of-type {\n",
              "        vertical-align: middle;\n",
              "    }\n",
              "\n",
              "    .dataframe tbody tr th {\n",
              "        vertical-align: top;\n",
              "    }\n",
              "\n",
              "    .dataframe thead th {\n",
              "        text-align: right;\n",
              "    }\n",
              "</style>\n",
              "<table border=\"1\" class=\"dataframe\">\n",
              "  <thead>\n",
              "    <tr style=\"text-align: right;\">\n",
              "      <th></th>\n",
              "      <th>Date Time</th>\n",
              "      <th>p (mbar)</th>\n",
              "      <th>T (degC)</th>\n",
              "      <th>Tpot (K)</th>\n",
              "      <th>Tdew (degC)</th>\n",
              "      <th>rh (%)</th>\n",
              "      <th>VPmax (mbar)</th>\n",
              "      <th>VPact (mbar)</th>\n",
              "      <th>VPdef (mbar)</th>\n",
              "      <th>sh (g/kg)</th>\n",
              "      <th>H2OC (mmol/mol)</th>\n",
              "      <th>rho (g/m**3)</th>\n",
              "      <th>wv (m/s)</th>\n",
              "      <th>max. wv (m/s)</th>\n",
              "      <th>wd (deg)</th>\n",
              "    </tr>\n",
              "  </thead>\n",
              "  <tbody>\n",
              "    <tr>\n",
              "      <th>0</th>\n",
              "      <td>01.01.2009 00:10:00</td>\n",
              "      <td>996.52</td>\n",
              "      <td>-8.02</td>\n",
              "      <td>265.40</td>\n",
              "      <td>-8.90</td>\n",
              "      <td>93.3</td>\n",
              "      <td>3.33</td>\n",
              "      <td>3.11</td>\n",
              "      <td>0.22</td>\n",
              "      <td>1.94</td>\n",
              "      <td>3.12</td>\n",
              "      <td>1307.75</td>\n",
              "      <td>1.03</td>\n",
              "      <td>1.75</td>\n",
              "      <td>152.3</td>\n",
              "    </tr>\n",
              "    <tr>\n",
              "      <th>1</th>\n",
              "      <td>01.01.2009 00:20:00</td>\n",
              "      <td>996.57</td>\n",
              "      <td>-8.41</td>\n",
              "      <td>265.01</td>\n",
              "      <td>-9.28</td>\n",
              "      <td>93.4</td>\n",
              "      <td>3.23</td>\n",
              "      <td>3.02</td>\n",
              "      <td>0.21</td>\n",
              "      <td>1.89</td>\n",
              "      <td>3.03</td>\n",
              "      <td>1309.80</td>\n",
              "      <td>0.72</td>\n",
              "      <td>1.50</td>\n",
              "      <td>136.1</td>\n",
              "    </tr>\n",
              "    <tr>\n",
              "      <th>2</th>\n",
              "      <td>01.01.2009 00:30:00</td>\n",
              "      <td>996.53</td>\n",
              "      <td>-8.51</td>\n",
              "      <td>264.91</td>\n",
              "      <td>-9.31</td>\n",
              "      <td>93.9</td>\n",
              "      <td>3.21</td>\n",
              "      <td>3.01</td>\n",
              "      <td>0.20</td>\n",
              "      <td>1.88</td>\n",
              "      <td>3.02</td>\n",
              "      <td>1310.24</td>\n",
              "      <td>0.19</td>\n",
              "      <td>0.63</td>\n",
              "      <td>171.6</td>\n",
              "    </tr>\n",
              "    <tr>\n",
              "      <th>3</th>\n",
              "      <td>01.01.2009 00:40:00</td>\n",
              "      <td>996.51</td>\n",
              "      <td>-8.31</td>\n",
              "      <td>265.12</td>\n",
              "      <td>-9.07</td>\n",
              "      <td>94.2</td>\n",
              "      <td>3.26</td>\n",
              "      <td>3.07</td>\n",
              "      <td>0.19</td>\n",
              "      <td>1.92</td>\n",
              "      <td>3.08</td>\n",
              "      <td>1309.19</td>\n",
              "      <td>0.34</td>\n",
              "      <td>0.50</td>\n",
              "      <td>198.0</td>\n",
              "    </tr>\n",
              "    <tr>\n",
              "      <th>4</th>\n",
              "      <td>01.01.2009 00:50:00</td>\n",
              "      <td>996.51</td>\n",
              "      <td>-8.27</td>\n",
              "      <td>265.15</td>\n",
              "      <td>-9.04</td>\n",
              "      <td>94.1</td>\n",
              "      <td>3.27</td>\n",
              "      <td>3.08</td>\n",
              "      <td>0.19</td>\n",
              "      <td>1.92</td>\n",
              "      <td>3.09</td>\n",
              "      <td>1309.00</td>\n",
              "      <td>0.32</td>\n",
              "      <td>0.63</td>\n",
              "      <td>214.3</td>\n",
              "    </tr>\n",
              "  </tbody>\n",
              "</table>\n",
              "</div>\n",
              "    <div class=\"colab-df-buttons\">\n",
              "\n",
              "  <div class=\"colab-df-container\">\n",
              "    <button class=\"colab-df-convert\" onclick=\"convertToInteractive('df-345fcdbb-78e9-4af3-b4f3-7ae12cc03734')\"\n",
              "            title=\"Convert this dataframe to an interactive table.\"\n",
              "            style=\"display:none;\">\n",
              "\n",
              "  <svg xmlns=\"http://www.w3.org/2000/svg\" height=\"24px\" viewBox=\"0 -960 960 960\">\n",
              "    <path d=\"M120-120v-720h720v720H120Zm60-500h600v-160H180v160Zm220 220h160v-160H400v160Zm0 220h160v-160H400v160ZM180-400h160v-160H180v160Zm440 0h160v-160H620v160ZM180-180h160v-160H180v160Zm440 0h160v-160H620v160Z\"/>\n",
              "  </svg>\n",
              "    </button>\n",
              "\n",
              "  <style>\n",
              "    .colab-df-container {\n",
              "      display:flex;\n",
              "      gap: 12px;\n",
              "    }\n",
              "\n",
              "    .colab-df-convert {\n",
              "      background-color: #E8F0FE;\n",
              "      border: none;\n",
              "      border-radius: 50%;\n",
              "      cursor: pointer;\n",
              "      display: none;\n",
              "      fill: #1967D2;\n",
              "      height: 32px;\n",
              "      padding: 0 0 0 0;\n",
              "      width: 32px;\n",
              "    }\n",
              "\n",
              "    .colab-df-convert:hover {\n",
              "      background-color: #E2EBFA;\n",
              "      box-shadow: 0px 1px 2px rgba(60, 64, 67, 0.3), 0px 1px 3px 1px rgba(60, 64, 67, 0.15);\n",
              "      fill: #174EA6;\n",
              "    }\n",
              "\n",
              "    .colab-df-buttons div {\n",
              "      margin-bottom: 4px;\n",
              "    }\n",
              "\n",
              "    [theme=dark] .colab-df-convert {\n",
              "      background-color: #3B4455;\n",
              "      fill: #D2E3FC;\n",
              "    }\n",
              "\n",
              "    [theme=dark] .colab-df-convert:hover {\n",
              "      background-color: #434B5C;\n",
              "      box-shadow: 0px 1px 3px 1px rgba(0, 0, 0, 0.15);\n",
              "      filter: drop-shadow(0px 1px 2px rgba(0, 0, 0, 0.3));\n",
              "      fill: #FFFFFF;\n",
              "    }\n",
              "  </style>\n",
              "\n",
              "    <script>\n",
              "      const buttonEl =\n",
              "        document.querySelector('#df-345fcdbb-78e9-4af3-b4f3-7ae12cc03734 button.colab-df-convert');\n",
              "      buttonEl.style.display =\n",
              "        google.colab.kernel.accessAllowed ? 'block' : 'none';\n",
              "\n",
              "      async function convertToInteractive(key) {\n",
              "        const element = document.querySelector('#df-345fcdbb-78e9-4af3-b4f3-7ae12cc03734');\n",
              "        const dataTable =\n",
              "          await google.colab.kernel.invokeFunction('convertToInteractive',\n",
              "                                                    [key], {});\n",
              "        if (!dataTable) return;\n",
              "\n",
              "        const docLinkHtml = 'Like what you see? Visit the ' +\n",
              "          '<a target=\"_blank\" href=https://colab.research.google.com/notebooks/data_table.ipynb>data table notebook</a>'\n",
              "          + ' to learn more about interactive tables.';\n",
              "        element.innerHTML = '';\n",
              "        dataTable['output_type'] = 'display_data';\n",
              "        await google.colab.output.renderOutput(dataTable, element);\n",
              "        const docLink = document.createElement('div');\n",
              "        docLink.innerHTML = docLinkHtml;\n",
              "        element.appendChild(docLink);\n",
              "      }\n",
              "    </script>\n",
              "  </div>\n",
              "\n",
              "\n",
              "<div id=\"df-bca748aa-c06d-470e-a2ae-3c5bff9dea26\">\n",
              "  <button class=\"colab-df-quickchart\" onclick=\"quickchart('df-bca748aa-c06d-470e-a2ae-3c5bff9dea26')\"\n",
              "            title=\"Suggest charts\"\n",
              "            style=\"display:none;\">\n",
              "\n",
              "<svg xmlns=\"http://www.w3.org/2000/svg\" height=\"24px\"viewBox=\"0 0 24 24\"\n",
              "     width=\"24px\">\n",
              "    <g>\n",
              "        <path d=\"M19 3H5c-1.1 0-2 .9-2 2v14c0 1.1.9 2 2 2h14c1.1 0 2-.9 2-2V5c0-1.1-.9-2-2-2zM9 17H7v-7h2v7zm4 0h-2V7h2v10zm4 0h-2v-4h2v4z\"/>\n",
              "    </g>\n",
              "</svg>\n",
              "  </button>\n",
              "\n",
              "<style>\n",
              "  .colab-df-quickchart {\n",
              "      --bg-color: #E8F0FE;\n",
              "      --fill-color: #1967D2;\n",
              "      --hover-bg-color: #E2EBFA;\n",
              "      --hover-fill-color: #174EA6;\n",
              "      --disabled-fill-color: #AAA;\n",
              "      --disabled-bg-color: #DDD;\n",
              "  }\n",
              "\n",
              "  [theme=dark] .colab-df-quickchart {\n",
              "      --bg-color: #3B4455;\n",
              "      --fill-color: #D2E3FC;\n",
              "      --hover-bg-color: #434B5C;\n",
              "      --hover-fill-color: #FFFFFF;\n",
              "      --disabled-bg-color: #3B4455;\n",
              "      --disabled-fill-color: #666;\n",
              "  }\n",
              "\n",
              "  .colab-df-quickchart {\n",
              "    background-color: var(--bg-color);\n",
              "    border: none;\n",
              "    border-radius: 50%;\n",
              "    cursor: pointer;\n",
              "    display: none;\n",
              "    fill: var(--fill-color);\n",
              "    height: 32px;\n",
              "    padding: 0;\n",
              "    width: 32px;\n",
              "  }\n",
              "\n",
              "  .colab-df-quickchart:hover {\n",
              "    background-color: var(--hover-bg-color);\n",
              "    box-shadow: 0 1px 2px rgba(60, 64, 67, 0.3), 0 1px 3px 1px rgba(60, 64, 67, 0.15);\n",
              "    fill: var(--button-hover-fill-color);\n",
              "  }\n",
              "\n",
              "  .colab-df-quickchart-complete:disabled,\n",
              "  .colab-df-quickchart-complete:disabled:hover {\n",
              "    background-color: var(--disabled-bg-color);\n",
              "    fill: var(--disabled-fill-color);\n",
              "    box-shadow: none;\n",
              "  }\n",
              "\n",
              "  .colab-df-spinner {\n",
              "    border: 2px solid var(--fill-color);\n",
              "    border-color: transparent;\n",
              "    border-bottom-color: var(--fill-color);\n",
              "    animation:\n",
              "      spin 1s steps(1) infinite;\n",
              "  }\n",
              "\n",
              "  @keyframes spin {\n",
              "    0% {\n",
              "      border-color: transparent;\n",
              "      border-bottom-color: var(--fill-color);\n",
              "      border-left-color: var(--fill-color);\n",
              "    }\n",
              "    20% {\n",
              "      border-color: transparent;\n",
              "      border-left-color: var(--fill-color);\n",
              "      border-top-color: var(--fill-color);\n",
              "    }\n",
              "    30% {\n",
              "      border-color: transparent;\n",
              "      border-left-color: var(--fill-color);\n",
              "      border-top-color: var(--fill-color);\n",
              "      border-right-color: var(--fill-color);\n",
              "    }\n",
              "    40% {\n",
              "      border-color: transparent;\n",
              "      border-right-color: var(--fill-color);\n",
              "      border-top-color: var(--fill-color);\n",
              "    }\n",
              "    60% {\n",
              "      border-color: transparent;\n",
              "      border-right-color: var(--fill-color);\n",
              "    }\n",
              "    80% {\n",
              "      border-color: transparent;\n",
              "      border-right-color: var(--fill-color);\n",
              "      border-bottom-color: var(--fill-color);\n",
              "    }\n",
              "    90% {\n",
              "      border-color: transparent;\n",
              "      border-bottom-color: var(--fill-color);\n",
              "    }\n",
              "  }\n",
              "</style>\n",
              "\n",
              "  <script>\n",
              "    async function quickchart(key) {\n",
              "      const quickchartButtonEl =\n",
              "        document.querySelector('#' + key + ' button');\n",
              "      quickchartButtonEl.disabled = true;  // To prevent multiple clicks.\n",
              "      quickchartButtonEl.classList.add('colab-df-spinner');\n",
              "      try {\n",
              "        const charts = await google.colab.kernel.invokeFunction(\n",
              "            'suggestCharts', [key], {});\n",
              "      } catch (error) {\n",
              "        console.error('Error during call to suggestCharts:', error);\n",
              "      }\n",
              "      quickchartButtonEl.classList.remove('colab-df-spinner');\n",
              "      quickchartButtonEl.classList.add('colab-df-quickchart-complete');\n",
              "    }\n",
              "    (() => {\n",
              "      let quickchartButtonEl =\n",
              "        document.querySelector('#df-bca748aa-c06d-470e-a2ae-3c5bff9dea26 button');\n",
              "      quickchartButtonEl.style.display =\n",
              "        google.colab.kernel.accessAllowed ? 'block' : 'none';\n",
              "    })();\n",
              "  </script>\n",
              "</div>\n",
              "\n",
              "    </div>\n",
              "  </div>\n"
            ]
          },
          "metadata": {},
          "execution_count": 4
        }
      ]
    },
    {
      "cell_type": "code",
      "source": [
        "# 결측치 확인\n",
        "df.isna().sum()"
      ],
      "metadata": {
        "colab": {
          "base_uri": "https://localhost:8080/"
        },
        "id": "KGKGTEDAYcvF",
        "outputId": "07cc80cc-35c5-4267-e552-8e0695fb7286"
      },
      "execution_count": null,
      "outputs": [
        {
          "output_type": "execute_result",
          "data": {
            "text/plain": [
              "Date Time          0\n",
              "p (mbar)           0\n",
              "T (degC)           0\n",
              "Tpot (K)           0\n",
              "Tdew (degC)        0\n",
              "rh (%)             0\n",
              "VPmax (mbar)       0\n",
              "VPact (mbar)       0\n",
              "VPdef (mbar)       0\n",
              "sh (g/kg)          0\n",
              "H2OC (mmol/mol)    0\n",
              "rho (g/m**3)       0\n",
              "wv (m/s)           0\n",
              "max. wv (m/s)      0\n",
              "wd (deg)           0\n",
              "dtype: int64"
            ]
          },
          "metadata": {},
          "execution_count": 5
        }
      ]
    },
    {
      "cell_type": "code",
      "source": [
        "# 변수 정보\n",
        "df.info()"
      ],
      "metadata": {
        "colab": {
          "base_uri": "https://localhost:8080/"
        },
        "id": "n49XyXCiYkcl",
        "outputId": "1987ea65-d3e9-4ad1-d55c-7e9fbdf086a4"
      },
      "execution_count": null,
      "outputs": [
        {
          "output_type": "stream",
          "name": "stdout",
          "text": [
            "<class 'pandas.core.frame.DataFrame'>\n",
            "RangeIndex: 420451 entries, 0 to 420450\n",
            "Data columns (total 15 columns):\n",
            " #   Column           Non-Null Count   Dtype  \n",
            "---  ------           --------------   -----  \n",
            " 0   Date Time        420451 non-null  object \n",
            " 1   p (mbar)         420451 non-null  float64\n",
            " 2   T (degC)         420451 non-null  float64\n",
            " 3   Tpot (K)         420451 non-null  float64\n",
            " 4   Tdew (degC)      420451 non-null  float64\n",
            " 5   rh (%)           420451 non-null  float64\n",
            " 6   VPmax (mbar)     420451 non-null  float64\n",
            " 7   VPact (mbar)     420451 non-null  float64\n",
            " 8   VPdef (mbar)     420451 non-null  float64\n",
            " 9   sh (g/kg)        420451 non-null  float64\n",
            " 10  H2OC (mmol/mol)  420451 non-null  float64\n",
            " 11  rho (g/m**3)     420451 non-null  float64\n",
            " 12  wv (m/s)         420451 non-null  float64\n",
            " 13  max. wv (m/s)    420451 non-null  float64\n",
            " 14  wd (deg)         420451 non-null  float64\n",
            "dtypes: float64(14), object(1)\n",
            "memory usage: 48.1+ MB\n"
          ]
        }
      ]
    },
    {
      "cell_type": "code",
      "source": [
        "example_line = lines[0]\n",
        "print(example_line)\n",
        "\n",
        "example_split = example_line.split(',')[1:]\n",
        "print(example_split)\n",
        "\n",
        "example_dtype = type(example_split[0])\n",
        "print(example_dtype)"
      ],
      "metadata": {
        "colab": {
          "base_uri": "https://localhost:8080/"
        },
        "id": "RTxEKmpfaabV",
        "outputId": "af330f94-7c60-4a7a-9439-59cbdd9999ca"
      },
      "execution_count": null,
      "outputs": [
        {
          "output_type": "stream",
          "name": "stdout",
          "text": [
            "01.01.2009 00:10:00,996.52,-8.02,265.40,-8.90,93.30,3.33,3.11,0.22,1.94,3.12,1307.75,1.03,1.75,152.30\n",
            "['996.52', '-8.02', '265.40', '-8.90', '93.30', '3.33', '3.11', '0.22', '1.94', '3.12', '1307.75', '1.03', '1.75', '152.30']\n",
            "<class 'str'>\n"
          ]
        }
      ]
    },
    {
      "cell_type": "markdown",
      "source": [
        "데이터를 Numpy array로 변환하기 위해 해야할 일\n",
        "1. 한 line 씩 읽어 날씨 정보에 해당하는 값인 1번 인덱스부터 끝까지 추출\n",
        "2. 날씨 정보가 원래 float 형이나 현재 str 형이므로 float 값으로 변환\n",
        "3. float형 날씨 정보로 구성되어있으며 크기는 14인 리스트를 420,451개 만들어 numpy array로 저장"
      ],
      "metadata": {
        "id": "5sEZjiXGbpr-"
      }
    },
    {
      "cell_type": "code",
      "source": [
        "# 전체 데이터를 numpy array로 변환\n",
        "import numpy as np\n",
        "\n",
        "float_data = np.zeros((len(lines), len(header) - 1))  # 420,451개의 행 x 14개의 날씨 정보 변수\n",
        "for i, line in enumerate(lines):\n",
        "    values = [float(x) for x in line.split(',')[1:]]\n",
        "    float_data[i, :] = values"
      ],
      "metadata": {
        "id": "7GvnwOdmXRY1"
      },
      "execution_count": null,
      "outputs": []
    },
    {
      "cell_type": "code",
      "source": [
        "# 변환된 데이터 확인\n",
        "print(f\"한 line당 크기: {len(float_data[0])}\")\n",
        "print(f\"numpy array 변환 전 값: {lines[0].split(',')[1:]}\")\n",
        "print(f\"numpy array 변환 후 값: {[np.round(i, 2) for i in float_data[0]]}\")"
      ],
      "metadata": {
        "colab": {
          "base_uri": "https://localhost:8080/"
        },
        "id": "XvjvJUGicfwG",
        "outputId": "693411f9-e954-46e6-80b0-91a0cd32915a"
      },
      "execution_count": null,
      "outputs": [
        {
          "output_type": "stream",
          "name": "stdout",
          "text": [
            "한 line당 크기: 14\n",
            "numpy array 변환 전 값: ['996.52', '-8.02', '265.40', '-8.90', '93.30', '3.33', '3.11', '0.22', '1.94', '3.12', '1307.75', '1.03', '1.75', '152.30']\n",
            "numpy array 변환 후 값: [996.52, -8.02, 265.4, -8.9, 93.3, 3.33, 3.11, 0.22, 1.94, 3.12, 1307.75, 1.03, 1.75, 152.3]\n"
          ]
        }
      ]
    },
    {
      "cell_type": "code",
      "source": [
        "# 시계열 온도 그래프 그리기\n",
        "import matplotlib.pyplot as plt\n",
        "\n",
        "temp = float_data[:, 1] # 1번 컬럼이 섭씨 온도 값\n",
        "plt.plot(range(len(temp)), temp)\n",
        "plt.show()"
      ],
      "metadata": {
        "colab": {
          "base_uri": "https://localhost:8080/",
          "height": 434
        },
        "id": "qWOEvOAbclFF",
        "outputId": "ba1b0f12-5cd3-48aa-b3a0-e6fbeb1afff8"
      },
      "execution_count": null,
      "outputs": [
        {
          "output_type": "display_data",
          "data": {
            "text/plain": [
              "<Figure size 640x480 with 1 Axes>"
            ],
            "image/png": "[encoded data removed]"
          },
          "metadata": {}
        }
      ]
    },
    {
      "cell_type": "code",
      "source": [
        "# 10일 간 온도 그래프\n",
        "plt.plot(range(1440), temp[:1440]) # 하나의 행은 10분 단위의 값. 따라서 하루는 24 * 6 = 144행 씩. 144행이 10개, 즉 1440개의 행은 10일간의 기록\n",
        "plt.show()"
      ],
      "metadata": {
        "colab": {
          "base_uri": "https://localhost:8080/",
          "height": 430
        },
        "id": "YNsqi321eR_5",
        "outputId": "0178a920-324d-450b-908b-507793114244"
      },
      "execution_count": null,
      "outputs": [
        {
          "output_type": "display_data",
          "data": {
            "text/plain": [
              "<Figure size 640x480 with 1 Axes>"
            ],
            "image/png": "[encoded data removed]"
          },
          "metadata": {}
        }
      ]
    },
    {
      "cell_type": "markdown",
      "source": [
        "- 10일 모두 영하의 온도\n",
        "- 4일부터 온도가 급격히 떨어지고 6일차에 최저 온도를 찍고는 다시 올라 영하 5도 ~ 영하 17도 부근을 왔다갔다 함."
      ],
      "metadata": {
        "id": "LYM6xi9PfdGm"
      }
    },
    {
      "cell_type": "markdown",
      "source": [
        "지난 몇 달간 데이터를 사용하여 다음 달의 평균 온도를 예측하는 것은 쉬운 편! 하지만 하루하루 데이터를 살펴보면 온도 변화가 매우 불안정.\n",
        "\n",
        "일자별 수준의 시계열 데이터를 예측할 수 있을까?"
      ],
      "metadata": {
        "id": "aa4Wft_qgKdl"
      }
    },
    {
      "cell_type": "markdown",
      "source": [
        "# 2. 데이터 전처리"
      ],
      "metadata": {
        "id": "vo2bJAhjg47b"
      }
    },
    {
      "cell_type": "markdown",
      "source": [
        "시계열 예측을 위한 데이터 전처리\n",
        "- lookback: 10일 전 (1440행 전)\n",
        "- steps: 6 (1시간마다 데이터 포인트 샘플링)\n",
        "- delay: 144 (24시간 후 데이터가 target)\n",
        "\n",
        "필요한 두 가지 작업\n",
        "- 신경망에 주입할 수 있는 형태로 데이터 전처리하기.\n",
        "    - 데이터가 이미 수치형이므로 추가적인 벡터화는 필요하지 않으나 각 시계열 특성의 범위가 다르므로 \"정규화\"하기\n",
        "- float_data 배열을 받아 과거 데이터의 배치와 미래 타깃 온도를 추출하는 generator 함수 만들기.\n",
        "    - 데이터가 10분 간의 타임스텝으로 이루어져 있으므로 중복이 많다. --> 모든 샘플을 각기 메모리에 저장하는 것은 낭비가 심하므로 대신 원본 데이터를 사용하여 그때그때 배치를 만들기."
      ],
      "metadata": {
        "id": "uMvSI3eLiIAz"
      }
    },
    {
      "cell_type": "code",
      "source": [
        "# 정규화\n",
        "# 정규화 방식: (x - mean) / std\n",
        "# train : valid : test = 200,000 : 100,000 : 120,451\n",
        "mean = float_data[:200000].mean(axis=0)\n",
        "float_data = float_data - mean\n",
        "std = float_data[:200000].std(axis=0)\n",
        "float_data = float_data / std"
      ],
      "metadata": {
        "id": "JIC3XxgFglvl"
      },
      "execution_count": null,
      "outputs": []
    },
    {
      "cell_type": "code",
      "source": [
        "'''generator\n",
        "    반환: (samples, targets)\n",
        "        - (x, y) 튜플\n",
        "        - 반복적 반환을 위해 return 아닌 yield\n",
        "    매개변수\n",
        "        - data: 정규화한 부동 소수 데이터로 이루어진 원본 배열\n",
        "        - lookback: 거슬러 올라갈 타임스텝\n",
        "        - delay: target으로 사용할 미래 타임스텝\n",
        "        - min_index, max_index: 추출할 타임스텝의 범위를 지정하기 위한 data 배열 인덱스. 검증 데이터와 테스트 데이터 분리에 사용\n",
        "        - shuffle: 샘플을 섞을지, 시간 순서대로 추출할 지 결정\n",
        "        - batch_size: 배치의 샘플 수\n",
        "        - step: 데이터를 샘플링할 타임스텝 간격. 1시간에 하나의 데이터 포인트를 추출하기 위해 6으로 지정\n",
        "'''\n",
        "\n",
        "def generator(data, lookback, delay, min_index, max_index, shuffle=False, batch_size=128, step=6):\n",
        "    if max_index is None:\n",
        "        max_index = len(data) - delay - 1\n",
        "    i = min_index + lookback\n",
        "    while 1:\n",
        "        if shuffle:\n",
        "            rows = np.random.randint(min_index + lookback, max_index, size=batch_size)\n",
        "        else:\n",
        "            if i + batch_size >= max_index:\n",
        "                i = min_index + lookback\n",
        "            rows = np.arange(i, min(i + batch_size, max_index))\n",
        "            i += len(rows)\n",
        "        samples = np.zeros((len(rows), lookback // step, data.shape[-1]))\n",
        "        targets = np.zeros((len(rows),))\n",
        "        for j, row in enumerate(rows):\n",
        "            indices = range(rows[j] - lookback, rows[j], step)\n",
        "            samples[j] = data[indices]\n",
        "            targets[j] = data[rows[j] + delay][1]\n",
        "        yield samples, targets"
      ],
      "metadata": {
        "id": "IlqJm3wqnTMI"
      },
      "execution_count": null,
      "outputs": []
    },
    {
      "cell_type": "code",
      "source": [
        "# train, validation, test generator\n",
        "lookback = 1440\n",
        "step = 6\n",
        "delay = 144\n",
        "batch_size = 128\n",
        "train_gen = generator(float_data, lookback, delay, 0, 200000, shuffle=True)\n",
        "val_gen = generator(float_data, lookback, delay, 200001, 300000)\n",
        "test_gen = generator(float_data, lookback, delay, 300001, None)\n",
        "\n",
        "val_steps = (300000 - 200001 - lookback) // batch_size # validation data를 순회하기 위해 val_gen에서 추출할 횟수\n",
        "test_steps = (len(float_data) - 300001 - lookback) // batch_size # test data를 순회하기 위해 test_gen에서 추출할 횟수"
      ],
      "metadata": {
        "id": "yn1YqKDsqOOT"
      },
      "execution_count": null,
      "outputs": []
    },
    {
      "cell_type": "markdown",
      "source": [
        "# 3. 기준점"
      ],
      "metadata": {
        "id": "zTRsrBmorw48"
      }
    },
    {
      "cell_type": "markdown",
      "source": [
        "시계열 온도 데이터는 연속성이 있고 일자별로 주기성을 가진다고 볼 수 있다. (사실 이 데이터는 모델링하기 좋게 만들어진 데이터긴 하지만,  실제로는 데이터를 열어서 그래프를 그려보며 확인할 필요성이 있다. 이것도 GRU를 사용하여 모델링할 때 확인해보겠다.)\n",
        "따라서 상식 수준의 기준점은 현재와 24시간 후 온도는 동일하다고 예측을 하는 것이다. 이 방법을 Mean Absolute Error(수치 예측 평가 기준)로 평가해보겠다.\n",
        "\n",
        "### **적어도 현재와 24시간 후 온도가 동일하다고 예측한 MAE 보다는 딥러닝 모델을 이용한 예측 MAE가 더 낮아야 의미가 있다!**"
      ],
      "metadata": {
        "id": "cyosM5y-r2ZD"
      }
    },
    {
      "cell_type": "code",
      "source": [
        "# Mean Absolute Error 계산\n",
        "def evaluate_naive_method():\n",
        "    batch_maes = []\n",
        "    for step in range(val_steps):\n",
        "        samples, targets = next(val_gen)\n",
        "        preds = samples[:, -1, 1]\n",
        "        mae = np.mean(np.abs(preds - targets))\n",
        "        batch_maes.append(mae)\n",
        "    res = np.mean(batch_maes)\n",
        "    return res"
      ],
      "metadata": {
        "id": "1DAf32BNrHGo"
      },
      "execution_count": null,
      "outputs": []
    },
    {
      "cell_type": "code",
      "source": [
        "standard_mae = evaluate_naive_method()\n",
        "print(standard_mae)"
      ],
      "metadata": {
        "colab": {
          "base_uri": "https://localhost:8080/"
        },
        "id": "JMceYlKBtG5_",
        "outputId": "ffd5a26f-0bae-4cfa-ac09-d72326883346"
      },
      "execution_count": null,
      "outputs": [
        {
          "output_type": "stream",
          "name": "stdout",
          "text": [
            "0.2897359729905486\n"
          ]
        }
      ]
    },
    {
      "cell_type": "code",
      "source": [
        "# 섭씨 온도 기준 계산: mae * 표준 편차\n",
        "print(standard_mae * std[1])"
      ],
      "metadata": {
        "colab": {
          "base_uri": "https://localhost:8080/"
        },
        "id": "yOlUBttgtJB9",
        "outputId": "fc4d1d4b-b729-4139-b61e-3c862bf10d81"
      },
      "execution_count": null,
      "outputs": [
        {
          "output_type": "stream",
          "name": "stdout",
          "text": [
            "2.564887434980494\n"
          ]
        }
      ]
    },
    {
      "cell_type": "markdown",
      "source": [
        "온도 오차가 섭씨 2.56도 정도 나 오차가 상당히 크다."
      ],
      "metadata": {
        "id": "H6V7pOvPtjVs"
      }
    },
    {
      "cell_type": "markdown",
      "source": [
        "# 4. Dropout을 사용하여 과대적합을 감소시킨 GRU"
      ],
      "metadata": {
        "id": "d-Vbf8S--Z4R"
      }
    },
    {
      "cell_type": "markdown",
      "source": [
        "과대적합을 해결하기 위해 Dropout 기법을 사용할 수 있다. 하지만 RNN에 Dropout을 올바르게 적용하는 방법은 간단하지 않다. 오랫동안 recurrent layer 이전에 Dropout을 적용하면 규제에 도움이 되기보다 학습에 방해가 되는 것으로 알려졌었다.\n",
        "\n",
        "2015년 Yarin Gal의 \"Uncertainty in Deep Learning\"에 따르면, 타임스텝마다 랜덤하게 Dropout mask를 바꾸는 것이 아닌 동일한 Dropout mask(동일한 유닛의 Drop pattern)를 모든 타임스텝에 적용해야 한다.\n",
        "\n",
        "GRU나 LSTM 같은 recurrent gate에 의해 만들어지는 표현을 규제하려면 recurrent layer 내부 계산에 사용된 activation function에 타임스텝마다 동일한 Dropout mask를 적용해야 한다. 모든 타임스텝에 동일한 Dropout mask를 적용하면 네트워크가 학습 오차를 타임스텝에 걸쳐 적절하게 전파시킬 것이다. 이와 반대로 타임스텝마다 랜덤한 Dropout mask를 적용하면 오차 신호가 전파되는 것을 방해하고 학습 과정에 해를 끼친다."
      ],
      "metadata": {
        "id": "n4klvCNi_hAa"
      }
    },
    {
      "cell_type": "code",
      "source": [
        "from keras.backend import clear_session\n",
        "from keras.models import Sequential\n",
        "from keras.layers import GRU, Dense\n",
        "from keras.optimizers import RMSprop\n",
        "\n",
        "clear_session()\n",
        "model = Sequential()\n",
        "model.add(GRU(32, dropout=0.2, recurrent_dropout=0.2, input_shape=(None, float_data.shape[-1])))\n",
        "model.add(Dense(1))\n",
        "\n",
        "model.compile(optimizer=RMSprop(), loss='mae')\n",
        "hist = model.fit_generator(train_gen, steps_per_epoch=500, epochs=40, validation_data=val_gen, validation_steps=val_steps)"
      ],
      "metadata": {
        "colab": {
          "base_uri": "https://localhost:8080/"
        },
        "id": "o3UbA8XG86fG",
        "outputId": "910342d2-4f71-4fa7-f046-d3228062c72e"
      },
      "execution_count": null,
      "outputs": [
        {
          "metadata": {
            "tags": null
          },
          "name": "stderr",
          "output_type": "stream",
          "text": [
            "WARNING:tensorflow:Layer gru will not use cuDNN kernels since it doesn't meet the criteria. It will use a generic GPU kernel as fallback when running on GPU.\n"
          ]
        },
        {
          "metadata": {
            "tags": null
          },
          "name": "stdout",
          "output_type": "stream",
          "text": [
            "Epoch 1/40\n"
          ]
        },
        {
          "metadata": {
            "tags": null
          },
          "name": "stderr",
          "output_type": "stream",
          "text": [
            "<ipython-input-18-83ab2a8df642>:12: UserWarning: `Model.fit_generator` is deprecated and will be removed in a future version. Please use `Model.fit`, which supports generators.\n",
            "  hist = model.fit_generator(train_gen, steps_per_epoch=500, epochs=40, validation_data=val_gen, validation_steps=val_steps)\n"
          ]
        },
        {
          "output_type": "stream",
          "name": "stdout",
          "text": [
            "500/500 [==============================] - 344s 680ms/step - loss: 0.3236 - val_loss: 0.2793\n",
            "Epoch 2/40\n",
            "500/500 [==============================] - 340s 680ms/step - loss: 0.3074 - val_loss: 0.2748\n",
            "Epoch 3/40\n",
            "500/500 [==============================] - 333s 666ms/step - loss: 0.3024 - val_loss: 0.2713\n",
            "Epoch 4/40\n",
            "500/500 [==============================] - 333s 665ms/step - loss: 0.2951 - val_loss: 0.2727\n",
            "Epoch 5/40\n",
            "500/500 [==============================] - 333s 665ms/step - loss: 0.2892 - val_loss: 0.2686\n",
            "Epoch 6/40\n",
            "500/500 [==============================] - 332s 665ms/step - loss: 0.2859 - val_loss: 0.2718\n",
            "Epoch 7/40\n",
            "500/500 [==============================] - 333s 666ms/step - loss: 0.2828 - val_loss: 0.2678\n",
            "Epoch 8/40\n",
            "500/500 [==============================] - 333s 666ms/step - loss: 0.2804 - val_loss: 0.2672\n",
            "Epoch 9/40\n",
            "500/500 [==============================] - 334s 669ms/step - loss: 0.2779 - val_loss: 0.2732\n",
            "Epoch 10/40\n",
            "500/500 [==============================] - 333s 666ms/step - loss: 0.2750 - val_loss: 0.2741\n",
            "Epoch 11/40\n",
            "500/500 [==============================] - 335s 671ms/step - loss: 0.2711 - val_loss: 0.2753\n",
            "Epoch 12/40\n",
            "500/500 [==============================] - 331s 663ms/step - loss: 0.2681 - val_loss: 0.2839\n",
            "Epoch 13/40\n",
            "500/500 [==============================] - 336s 673ms/step - loss: 0.2663 - val_loss: 0.2795\n",
            "Epoch 14/40\n",
            "500/500 [==============================] - 332s 665ms/step - loss: 0.2608 - val_loss: 0.2788\n",
            "Epoch 15/40\n",
            "500/500 [==============================] - 331s 663ms/step - loss: 0.2582 - val_loss: 0.2761\n",
            "Epoch 16/40\n",
            "500/500 [==============================] - 333s 667ms/step - loss: 0.2558 - val_loss: 0.2843\n",
            "Epoch 17/40\n",
            "500/500 [==============================] - 332s 664ms/step - loss: 0.2538 - val_loss: 0.2855\n",
            "Epoch 18/40\n",
            "500/500 [==============================] - 335s 670ms/step - loss: 0.2517 - val_loss: 0.2866\n",
            "Epoch 19/40\n",
            "500/500 [==============================] - 334s 669ms/step - loss: 0.2496 - val_loss: 0.2873\n",
            "Epoch 20/40\n",
            "500/500 [==============================] - 335s 670ms/step - loss: 0.2465 - val_loss: 0.2953\n",
            "Epoch 21/40\n",
            "500/500 [==============================] - 332s 664ms/step - loss: 0.2455 - val_loss: 0.2936\n",
            "Epoch 22/40\n",
            "500/500 [==============================] - 326s 652ms/step - loss: 0.2462 - val_loss: 0.2922\n",
            "Epoch 23/40\n",
            "500/500 [==============================] - 327s 655ms/step - loss: 0.2420 - val_loss: 0.3013\n",
            "Epoch 24/40\n",
            "500/500 [==============================] - 330s 659ms/step - loss: 0.2417 - val_loss: 0.2985\n",
            "Epoch 25/40\n",
            "500/500 [==============================] - 336s 671ms/step - loss: 0.2392 - val_loss: 0.2963\n",
            "Epoch 26/40\n",
            "500/500 [==============================] - 331s 662ms/step - loss: 0.2385 - val_loss: 0.3011\n",
            "Epoch 27/40\n",
            "500/500 [==============================] - 333s 667ms/step - loss: 0.2376 - val_loss: 0.3035\n",
            "Epoch 28/40\n",
            "500/500 [==============================] - 332s 663ms/step - loss: 0.2364 - val_loss: 0.3062\n",
            "Epoch 29/40\n",
            "500/500 [==============================] - 334s 669ms/step - loss: 0.2339 - val_loss: 0.3083\n",
            "Epoch 30/40\n",
            "500/500 [==============================] - 333s 666ms/step - loss: 0.2327 - val_loss: 0.3075\n",
            "Epoch 31/40\n",
            "500/500 [==============================] - 333s 666ms/step - loss: 0.2316 - val_loss: 0.3037\n",
            "Epoch 32/40\n",
            "500/500 [==============================] - 333s 665ms/step - loss: 0.2312 - val_loss: 0.3114\n",
            "Epoch 33/40\n",
            "500/500 [==============================] - 328s 657ms/step - loss: 0.2313 - val_loss: 0.3116\n",
            "Epoch 34/40\n",
            "500/500 [==============================] - 335s 670ms/step - loss: 0.2284 - val_loss: 0.3133\n",
            "Epoch 35/40\n",
            "500/500 [==============================] - 333s 667ms/step - loss: 0.2288 - val_loss: 0.3164\n",
            "Epoch 36/40\n",
            "500/500 [==============================] - 336s 672ms/step - loss: 0.2269 - val_loss: 0.3142\n",
            "Epoch 37/40\n",
            "500/500 [==============================] - 331s 663ms/step - loss: 0.2254 - val_loss: 0.3202\n",
            "Epoch 38/40\n",
            "500/500 [==============================] - 329s 659ms/step - loss: 0.2268 - val_loss: 0.3110\n",
            "Epoch 39/40\n",
            "500/500 [==============================] - 332s 665ms/step - loss: 0.2244 - val_loss: 0.3211\n",
            "Epoch 40/40\n",
            "500/500 [==============================] - 332s 665ms/step - loss: 0.2226 - val_loss: 0.3154\n"
          ]
        }
      ]
    },
    {
      "cell_type": "code",
      "source": [
        "# 그래프\n",
        "import matplotlib.pyplot as plt\n",
        "\n",
        "history = hist.history\n",
        "loss = history['loss']\n",
        "val_loss = history['val_loss']\n",
        "\n",
        "epochs = range(1, len(loss) + 1)\n",
        "\n",
        "plt.plot(epochs, loss, 'bo', label='Training loss')\n",
        "plt.plot(epochs, val_loss, 'b', label='Validation loss')\n",
        "plt.title('Training and validation loss')\n",
        "plt.legend()\n",
        "plt.show()"
      ],
      "metadata": {
        "id": "vC3Q5rPfBP6a",
        "colab": {
          "base_uri": "https://localhost:8080/",
          "height": 452
        },
        "outputId": "4b3f4b45-dfe7-4534-cbbf-71985e89cae2"
      },
      "execution_count": null,
      "outputs": [
        {
          "output_type": "display_data",
          "data": {
            "text/plain": [
              "<Figure size 640x480 with 1 Axes>"
            ],
            "image/png": "[encoded data removed]"
          },
          "metadata": {}
        }
      ]
    },
    {
      "cell_type": "markdown",
      "source": [
        "Dropout을 사용했으나 8번째 학습 이후 과대적합이 발생하기 시작한다. 또 지난번에 Dropout을 사용하지 않은 GRU layer로 학습을 진행했을 때보다 Validation loss가 더 줄어든 것도 아니다."
      ],
      "metadata": {
        "id": "2oCTNusSBYA4"
      }
    },
    {
      "cell_type": "markdown",
      "source": [
        "# 5. Stacking Recurrent Layer"
      ],
      "metadata": {
        "id": "LaX5k7jZBolT"
      }
    },
    {
      "cell_type": "markdown",
      "source": [
        "Dropout을 사용하여 과대적합을 줄였으니 과대적합이 일어날 때까지 네트워크 용량을 늘리는 것이 좋다. 너무 많이 과대적합되지 않는 한 아직 충분한 용량에 도달한 것이 아니기 떄문이다.\n",
        "\n",
        "네트워크 용량을 늘리기 위해선 일반적으로 layer의 유닛 수를 늘리거나 layer를 더 많이 추가한다.\n",
        "\n",
        "**Keras에서는 layer를 제대로 쌓으려면 모든 중간층은 마지막 타임스텝만 출력하는 것이 아니라 전체 시퀀스(3D tensor)를 출력해야 한다. -> return_sequences=True**"
      ],
      "metadata": {
        "id": "8UcDtbozCiAx"
      }
    },
    {
      "cell_type": "code",
      "source": [
        "from keras.backend import clear_session\n",
        "from keras.models import Sequential\n",
        "from keras.layers import GRU, Dense\n",
        "from keras.optimizers import RMSprop\n",
        "\n",
        "clear_session()\n",
        "model = Sequential()\n",
        "model.add(GRU(32, dropout=0.1, recurrent_dropout=0.5, return_sequences=True, input_shape=(None, float_data.shape[-1])))\n",
        "model.add(GRU(64, activation='relu', dropout=0.1, recurrent_dropout=0.5))\n",
        "model.add(Dense(1))\n",
        "model.compile(optimizer=RMSprop(), loss='mae')\n",
        "hist = model.fit_generator(train_gen, steps_per_epoch=500, epochs=10, validation_data=val_gen, validation_steps=val_steps)"
      ],
      "metadata": {
        "id": "jkUZ5HloBnlE",
        "colab": {
          "base_uri": "https://localhost:8080/"
        },
        "outputId": "a6c5c2d5-b531-450a-83b8-c576900c06ff"
      },
      "execution_count": null,
      "outputs": [
        {
          "output_type": "stream",
          "name": "stderr",
          "text": [
            "WARNING:tensorflow:Layer gru will not use cuDNN kernels since it doesn't meet the criteria. It will use a generic GPU kernel as fallback when running on GPU.\n",
            "WARNING:tensorflow:Layer gru_1 will not use cuDNN kernels since it doesn't meet the criteria. It will use a generic GPU kernel as fallback when running on GPU.\n"
          ]
        },
        {
          "output_type": "stream",
          "name": "stdout",
          "text": [
            "Epoch 1/10\n"
          ]
        },
        {
          "output_type": "stream",
          "name": "stderr",
          "text": [
            "<ipython-input-19-19a612aa7de9>:12: UserWarning: `Model.fit_generator` is deprecated and will be removed in a future version. Please use `Model.fit`, which supports generators.\n",
            "  hist = model.fit_generator(train_gen, steps_per_epoch=500, epochs=10, validation_data=val_gen, validation_steps=val_steps)\n"
          ]
        },
        {
          "output_type": "stream",
          "name": "stdout",
          "text": [
            "500/500 [==============================] - 818s 2s/step - loss: 0.3237 - val_loss: 0.2871\n",
            "Epoch 2/10\n",
            "500/500 [==============================] - 839s 2s/step - loss: 0.3028 - val_loss: 0.2856\n",
            "Epoch 3/10\n",
            "500/500 [==============================] - 798s 2s/step - loss: 0.2980 - val_loss: 0.2695\n",
            "Epoch 4/10\n",
            "500/500 [==============================] - 785s 2s/step - loss: 0.2932 - val_loss: 0.2684\n",
            "Epoch 5/10\n",
            "500/500 [==============================] - 826s 2s/step - loss: 0.2879 - val_loss: 0.2741\n",
            "Epoch 6/10\n",
            "500/500 [==============================] - 780s 2s/step - loss: 0.2820 - val_loss: 0.2669\n",
            "Epoch 7/10\n",
            "500/500 [==============================] - 773s 2s/step - loss: 0.2773 - val_loss: 0.2678\n",
            "Epoch 8/10\n",
            "500/500 [==============================] - 773s 2s/step - loss: 0.2730 - val_loss: 0.2726\n",
            "Epoch 9/10\n",
            "500/500 [==============================] - 784s 2s/step - loss: 0.2691 - val_loss: 0.2911\n",
            "Epoch 10/10\n",
            "500/500 [==============================] - 775s 2s/step - loss: 0.2662 - val_loss: 0.2839\n"
          ]
        }
      ]
    },
    {
      "cell_type": "code",
      "source": [
        "# 그래프\n",
        "import matplotlib.pyplot as plt\n",
        "\n",
        "history = hist.history\n",
        "loss = history['loss']\n",
        "val_loss = history['val_loss']\n",
        "\n",
        "epochs = range(1, len(loss) + 1)\n",
        "\n",
        "plt.plot(epochs, loss, 'bo', label='Training loss')\n",
        "plt.plot(epochs, val_loss, 'b', label='Validation loss')\n",
        "plt.title('Training and validation loss')\n",
        "plt.legend()\n",
        "plt.show()"
      ],
      "metadata": {
        "id": "IDD1RpdyEt4P",
        "colab": {
          "base_uri": "https://localhost:8080/",
          "height": 452
        },
        "outputId": "c634e8ee-3ed0-4bab-889a-180cc664ee06"
      },
      "execution_count": null,
      "outputs": [
        {
          "output_type": "display_data",
          "data": {
            "text/plain": [
              "<Figure size 640x480 with 1 Axes>"
            ],
            "image/png": "[encoded data removed]"
          },
          "metadata": {}
        }
      ]
    },
    {
      "cell_type": "markdown",
      "source": [
        "GRU layer를 추가하여 성능을 높이고자 했으나 추가하지 않았을 때와 큰 차이는 없었다. 이 결론을 통해 생각할 수 있는 것은 비용은 더 들지만 validation_loss를 더 낮추기 위해 layer를 더 늘려 학습을 시도해보는 것과 GRU layer를 추가했지만 추가하지 않았을 때와 큰 차이가 없기 때문에 이 문제에 대해서는 네트워크의 용량을 늘리는 것이 성능을 높이는데 도움이 되지 않을 수도 있다는 것이다."
      ],
      "metadata": {
        "id": "VIgXk6acEs6R"
      }
    }
  ]
}